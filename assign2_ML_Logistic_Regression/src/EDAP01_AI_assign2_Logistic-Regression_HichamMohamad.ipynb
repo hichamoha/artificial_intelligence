{
 "cells": [
  {
   "cell_type": "markdown",
   "metadata": {},
   "source": [
    "# Classification with the perceptron and logistic regression\n",
    "\n",
    "__Individual assignment 2 - EDAP01 - Artificial Intelligence__\n",
    "\n",
    "Author of the assignment: Pierre Nugues\n",
    "\n",
    "__Student name__: Hicham Mohamad (hi8826mo-s)"
   ]
  },
  {
   "cell_type": "markdown",
   "metadata": {},
   "source": [
    "## Table of contents\n",
    "1. [Linear Regression - Gradient Descent](#t1)\n",
    "2. [Linear Classifier - Perceptron](#t2)\n",
    "3. [Linear Classifier - Logistic Regression](#t3)\n",
    "4. [Programming logistic regression with popular APIs](#t4)\n",
    "5. [Reading](#t5)"
   ]
  },
  {
   "cell_type": "markdown",
   "metadata": {},
   "source": [
    "## Objectives\n",
    "\n",
    "The objectives of this second assignment are to:\n",
    "\n",
    "1.  Write a **linear regression** program using **gradient descent**;\n",
    "2.  Write **linear classifiers** using the **perceptron** algorithm and **logistic regression**;\n",
    "3.  Experiment variations of the algorithms;\n",
    "4.  Evaluate your classifiers;\n",
    "5.  Experiment with popular tools;\n",
    "6.  Read a **scientific article** on optimization techniques and comment it;\n",
    "7.  Present your code, results, and comments in a **short dissertation**."
   ]
  },
  {
   "cell_type": "markdown",
   "metadata": {},
   "source": [
    "## Overview\n",
    "\n",
    "The gradient descent is a basic technique to estimate linear **discriminant functions**. You will first use the gradient descent method to implement linear regression. You will then program the perceptron algorithm. Finally, you will improve the **threshold function** with the logistic curve (logistic regression). You will try various configurations and study their influence on the learning speed and accuracy."
   ]
  },
  {
   "cell_type": "markdown",
   "metadata": {},
   "source": [
    "##  Programming language\n",
    "As programming language, you will use Python and write your code in this notebook.\n",
    "\n",
    "You need to have a comprehensive Python distribution such as Anaconda (https://www.anaconda.com/products/individual). This distribution is available on the student computers at the computer science department.\n",
    "Finally, you start a notebook by typing:\n",
    "\n",
    "`jupyter lab`\n",
    "\n",
    "in a terminal window and you select the notebook by clicking on it in the left pane.\n",
    "You run the pieces of code by typing shift+enter."
   ]
  },
  {
   "cell_type": "markdown",
   "metadata": {},
   "source": [
    "## Imports\n",
    "Imports you may use"
   ]
  },
  {
   "cell_type": "code",
   "execution_count": 1,
   "metadata": {},
   "outputs": [],
   "source": [
    "import random\n",
    "import numpy as np\n",
    "import math\n",
    "import matplotlib.pyplot as plt\n",
    "from matplotlib import cm\n",
    "from mpl_toolkits.mplot3d import Axes3D"
   ]
  },
  {
   "cell_type": "markdown",
   "metadata": {},
   "source": [
    "## 1 - Linear Regression <a name=\"t1\"/> \n",
    "\n",
    "You will implement the gradient descent method as explained in pages 719--720 in Russell-Norvig and in the slides to compute **regression lines**. You will implement the **stochastic** and **batch** versions of the algorithm.\n",
    "\n",
    "You must try to do it yourself first. If you encounter difficulties, you also have the solution to this exercise in the section _Solution to linear regression_ below."
   ]
  },
  {
   "cell_type": "markdown",
   "metadata": {},
   "source": [
    "### Your implementation of linear regression\n",
    "You will implement a regression program to predict the counts of **A's** in a text from the total count of letters. You will apply it on two data sets corresponding to letter counts in the 15 chapters of the French and English versions of **Salammbô**, where the first column is the total count of characters and the second one, the count of A's. \n",
    "\n",
    "Start with either French or English and when your program ready, test it on the other language."
   ]
  },
  {
   "cell_type": "code",
   "execution_count": 2,
   "metadata": {},
   "outputs": [],
   "source": [
    "stat_fr = np.array([[36961, 2503],\n",
    "                      [43621, 2992],\n",
    "                      [15694, 1042],\n",
    "                      [36231, 2487],\n",
    "                      [29945, 2014],\n",
    "                      [40588, 2805],\n",
    "                      [75255, 5062],\n",
    "                      [37709, 2643],\n",
    "                      [30899, 2126],\n",
    "                      [25486, 1784],\n",
    "                      [37497, 2641],\n",
    "                      [40398, 2766],\n",
    "                      [74105, 5047],\n",
    "                      [76725, 5312],\n",
    "                      [18317, 1215]])\n",
    "\n",
    "stat_en = np.array([[35680, 2217],\n",
    "                      [42514, 2761],\n",
    "                      [15162, 990],\n",
    "                      [35298, 2274],\n",
    "                      [29800, 1865],\n",
    "                      [40255, 2606],\n",
    "                      [74532, 4805],\n",
    "                      [37464, 2396],\n",
    "                      [31030, 1993],\n",
    "                      [24843, 1627],\n",
    "                      [36172, 2375],\n",
    "                      [39552, 2560],\n",
    "                      [72545, 4597],\n",
    "                      [75352, 4871],\n",
    "                      [18031, 1119]])"
   ]
  },
  {
   "cell_type": "markdown",
   "metadata": {},
   "source": [
    "From the datasets above, tell what is $\\mathbf{X}$ and $\\mathbf{y}$. Extract:\n",
    "1. The $\\mathbf{X}$ matrix, where you will have a column to model the intercept;\n",
    "2. The $\\mathbf{y}$ vector\n",
    "\n",
    "from these arrays."
   ]
  },
  {
   "cell_type": "code",
   "execution_count": 3,
   "metadata": {},
   "outputs": [
    {
     "name": "stdout",
     "output_type": "stream",
     "text": [
      "French X matrix \n",
      " [[    1 36961]\n",
      " [    1 43621]\n",
      " [    1 15694]\n",
      " [    1 36231]\n",
      " [    1 29945]\n",
      " [    1 40588]\n",
      " [    1 75255]\n",
      " [    1 37709]\n",
      " [    1 30899]\n",
      " [    1 25486]\n",
      " [    1 37497]\n",
      " [    1 40398]\n",
      " [    1 74105]\n",
      " [    1 76725]\n",
      " [    1 18317]]\n",
      "French y vector \n",
      " [[2503]\n",
      " [2992]\n",
      " [1042]\n",
      " [2487]\n",
      " [2014]\n",
      " [2805]\n",
      " [5062]\n",
      " [2643]\n",
      " [2126]\n",
      " [1784]\n",
      " [2641]\n",
      " [2766]\n",
      " [5047]\n",
      " [5312]\n",
      " [1215]]\n"
     ]
    }
   ],
   "source": [
    "# Write your code here\n",
    "X_fr = np.concatenate((np.ones((15,1), dtype=int), stat_fr[:,:1]), axis=1)\n",
    "print(\"French X matrix \\n\", X_fr)\n",
    "y_fr = stat_fr[:,-1:]\n",
    "print(\"French y vector \\n\", y_fr)\n",
    "#y.shape\n",
    "#X.shape"
   ]
  },
  {
   "cell_type": "code",
   "execution_count": 4,
   "metadata": {},
   "outputs": [
    {
     "name": "stdout",
     "output_type": "stream",
     "text": [
      "English X matrix \n",
      " [[    1 35680]\n",
      " [    1 42514]\n",
      " [    1 15162]\n",
      " [    1 35298]\n",
      " [    1 29800]\n",
      " [    1 40255]\n",
      " [    1 74532]\n",
      " [    1 37464]\n",
      " [    1 31030]\n",
      " [    1 24843]\n",
      " [    1 36172]\n",
      " [    1 39552]\n",
      " [    1 72545]\n",
      " [    1 75352]\n",
      " [    1 18031]]\n",
      "English y vector \n",
      " [[2217]\n",
      " [2761]\n",
      " [ 990]\n",
      " [2274]\n",
      " [1865]\n",
      " [2606]\n",
      " [4805]\n",
      " [2396]\n",
      " [1993]\n",
      " [1627]\n",
      " [2375]\n",
      " [2560]\n",
      " [4597]\n",
      " [4871]\n",
      " [1119]]\n"
     ]
    },
    {
     "data": {
      "text/plain": [
       "(15, 2)"
      ]
     },
     "execution_count": 4,
     "metadata": {},
     "output_type": "execute_result"
    }
   ],
   "source": [
    "X_en = np.concatenate((np.ones((15,1), dtype=int), stat_en[:,:1]), axis=1)\n",
    "#X_en = np.concatenate((np.ones((15,1)), stat_en[:,:1]), axis=1)\n",
    "print(\"English X matrix \\n\", X_en)\n",
    "y_en = stat_en[:,-1:]\n",
    "print(\"English y vector \\n\", y_en)\n",
    "X_en.shape"
   ]
  },
  {
   "cell_type": "markdown",
   "metadata": {},
   "source": [
    "- Scale the arrays so that they fit in the range [0, 1] on the $x$ and $y$ axes. "
   ]
  },
  {
   "cell_type": "markdown",
   "metadata": {},
   "source": [
    "### Function to scale the data"
   ]
  },
  {
   "cell_type": "code",
   "execution_count": 5,
   "metadata": {},
   "outputs": [],
   "source": [
    "# Write your code here\n",
    "def scale(Xy):\n",
    "    # Return the maximum of an array or maximum along an axis.\n",
    "    maxima = np.amax(Xy, axis=0)\n",
    "    \n",
    "    # Extract a diagonal or construct a diagonal array.\n",
    "    D = np.diag(maxima)\n",
    "    \n",
    "    # Compute the (multiplicative) inverse of a matrix.\n",
    "    D_inv = np.linalg.inv(D)\n",
    "    \n",
    "    # matrix multiplication, equivalent to dot()\n",
    "    Xy = Xy @ D_inv\n",
    "    \n",
    "    return (Xy, maxima)"
   ]
  },
  {
   "cell_type": "markdown",
   "metadata": {},
   "source": [
    "#### we scale the arrays so that they fit in the range [0, 1] on the  𝑥  and  𝑦  axes."
   ]
  },
  {
   "cell_type": "code",
   "execution_count": 6,
   "metadata": {},
   "outputs": [
    {
     "name": "stdout",
     "output_type": "stream",
     "text": [
      "- Data Arrays are SCALED -\n",
      "[    1 75352  4871]\n",
      "(15, 1)\n",
      "(15, 2)\n"
     ]
    }
   ],
   "source": [
    "scaled = True\n",
    "debug = False\n",
    "\n",
    "alpha = 1.0e-10\n",
    "if scaled:\n",
    "    X_en, maxima_X_en = scale(X_en)\n",
    "    y_en, maxima_y_en = scale(y_en)\n",
    "    maxima_en = np.concatenate((maxima_X_en, maxima_y_en))\n",
    "        \n",
    "    alpha = 1.0\n",
    "    print(\"- Data Arrays are SCALED -\")\n",
    "    print(maxima_en)\n",
    "    #print(maxima_en.reshape(-1,1))\n",
    "    \n",
    "    print(y_en.shape)\n",
    "    print(X_en.shape)"
   ]
  },
  {
   "cell_type": "markdown",
   "metadata": {},
   "source": [
    "### Gradient descent"
   ]
  },
  {
   "cell_type": "markdown",
   "metadata": {},
   "source": [
    "Implement the **descent functions**. You will pass `X`, `y`, the learning rate in the $\\alpha$ variable, the initial weight vector in `w`, the tolerance in the $\\epsilon$ variable, the maximal number of epochs in `epochs`. You will return `w`."
   ]
  },
  {
   "cell_type": "markdown",
   "metadata": {},
   "source": [
    "#### Function to compute the sum of squared errors"
   ]
  },
  {
   "cell_type": "code",
   "execution_count": 7,
   "metadata": {},
   "outputs": [],
   "source": [
    "def sse(X, y, w):\n",
    "    error = y - X @ w\n",
    "    return error.T @ error"
   ]
  },
  {
   "cell_type": "markdown",
   "metadata": {},
   "source": [
    "#### Batch descent\n",
    "Function to apply a batch descent: we have to cycle <br>\n",
    "through all the training data for every step, and there may be many steps."
   ]
  },
  {
   "cell_type": "code",
   "execution_count": 8,
   "metadata": {},
   "outputs": [],
   "source": [
    "# Write your code here\n",
    "def fit_batch(X, y, alpha, w,\n",
    "                  epochs=500,\n",
    "                  epsilon=1.0e-5):\n",
    "    \"\"\"\n",
    "    Batch gradient descent\n",
    "    :param X:\n",
    "    :param y:\n",
    "    :param alpha:\n",
    "    :param w:\n",
    "    :param epochs:\n",
    "    :param epsilon:\n",
    "    :return:\n",
    "    \"\"\"\n",
    "    global logs\n",
    "    logs = []\n",
    "    alpha /= len(X)\n",
    "    \n",
    "    # the iteration step considers all the data points\n",
    "    #for epoch in range(1, 500):\n",
    "    for epoch in range(1, epochs):\n",
    "        \n",
    "        # the loss function\n",
    "        loss = y - X @ w\n",
    "        #print(loss)\n",
    "        gradient = X.T @ loss\n",
    "        #w_old = w\n",
    "        \n",
    "        # update/learning rule\n",
    "        w = w + alpha * gradient\n",
    "        \n",
    "        logs += (w, alpha, sse(X, y, w))\n",
    "        \n",
    "        #if np.linalg.norm(w - w_old) / np.linalg.norm(w) < 0.0005:\n",
    "        if np.linalg.norm(gradient) < epsilon:\n",
    "            #print(\"Epoch\", epoch)\n",
    "            break\n",
    "            \n",
    "    print(\"Epoch\", epoch)        \n",
    "    return w"
   ]
  },
  {
   "cell_type": "markdown",
   "metadata": {},
   "source": [
    "#### Stochastic descent\n",
    "Function to apply a stochastic descent: where we consider <br>\n",
    "only a single training point at a time, taking a step after each one."
   ]
  },
  {
   "cell_type": "code",
   "execution_count": 9,
   "metadata": {},
   "outputs": [],
   "source": [
    "# Write your code here\n",
    "def fit_stoch(X, y, alpha, w,\n",
    "                  epochs=500,\n",
    "                  epsilon=1.0e-5):\n",
    "    \"\"\"\n",
    "    Stochastic gradient descent\n",
    "    :param X:\n",
    "    :param y:\n",
    "    :param alpha:\n",
    "    :param w:\n",
    "    :param epochs:\n",
    "    :param epsilon:\n",
    "    :return:\n",
    "    \"\"\"\n",
    "    global logs, logs_stoch\n",
    "    logs = []\n",
    "    logs_stoch = []\n",
    "    \n",
    "    random.seed(0)\n",
    "    idx = list(range(len(X)))\n",
    "    \n",
    "    #for epoch in range(500):\n",
    "    for epoch in range(epochs):\n",
    "        random.shuffle(idx)\n",
    "        #w_old = w\n",
    "        \n",
    "        # we carry out the updates using ONE single data point at a time\n",
    "        for i in idx:\n",
    "            \n",
    "            # the loss function\n",
    "            loss = y[i] - X[i] @ w\n",
    "            #gradient = loss * X[i].reshape(-1, 1)\n",
    "            gradient = loss * np.array([X[i]]).T\n",
    "            \n",
    "            # update/learning rule\n",
    "            w = w + alpha * gradient\n",
    "            logs_stoch += (w, alpha, sse(X, y, w))\n",
    "            \n",
    "        #if np.linalg.norm(w - w_old) / np.linalg.norm(w) < 0.005:\n",
    "        if np.linalg.norm(gradient) < epsilon:   \n",
    "            #print(\"Epoch\", epoch)\n",
    "            break\n",
    "            \n",
    "        logs += (w, alpha, sse(X, y, w))\n",
    "    \n",
    "    print(\"Epoch\", epoch)\n",
    "    return w"
   ]
  },
  {
   "cell_type": "markdown",
   "metadata": {},
   "source": [
    "#### Applying batch descent"
   ]
  },
  {
   "cell_type": "markdown",
   "metadata": {},
   "source": [
    "- Apply the batch descent and print the final **weight values** "
   ]
  },
  {
   "cell_type": "code",
   "execution_count": 10,
   "metadata": {},
   "outputs": [
    {
     "name": "stdout",
     "output_type": "stream",
     "text": [
      "===Batch descent=== \n",
      "\n",
      "Epoch 236\n",
      "the normalized Weights [[-7.31744724e-04]\n",
      " [ 9.94697306e-01]] \n",
      "\n",
      "Summed squared error, SSE = [[0.00086294]] \n",
      "\n",
      "Restored weights [[-3.56432855]\n",
      " [ 0.06430049]] \n",
      "\n"
     ]
    }
   ],
   "source": [
    "# Write your code here\n",
    "print(\"===Batch descent=== \\n\")\n",
    "w = np.zeros(X_en.shape[1]).reshape((-1, 1))\n",
    "\n",
    "# compute the weights using batch descent version of GD algorithm\n",
    "#w = batch_descent(X, y, alpha, w)\n",
    "w = fit_batch(X_en, y_en, alpha, w, 500, 1.0e-5)\n",
    "\n",
    "print(\"the normalized Weights\", w, \"\\n\")\n",
    "print(\"Summed squared error, SSE =\", sse(X_en, y_en, w), \"\\n\")\n",
    "\n",
    "if scaled:\n",
    "    maxima_en_vec = maxima_en.reshape(-1, 1)\n",
    "    w = maxima_en_vec[-1, 0] * (w / maxima_en_vec[:-1, 0:1])\n",
    "    \n",
    "    print(\"Restored weights\", w, \"\\n\")\n",
    "    #print(\"The coefficient is \", w[1,:])\n",
    "    #print(\"The intercept is \", w[0,:], \"\\n\")\n",
    "    \n",
    "if debug:\n",
    "    print(\"Logs\", logs)"
   ]
  },
  {
   "cell_type": "markdown",
   "metadata": {},
   "source": [
    "- Visualize the points of your dataset as well as the **regression lines** you obtain using **matplotlib** or another similar program."
   ]
  },
  {
   "cell_type": "markdown",
   "metadata": {},
   "source": [
    "#### We restore the coordinates"
   ]
  },
  {
   "cell_type": "code",
   "execution_count": 11,
   "metadata": {},
   "outputs": [
    {
     "name": "stdout",
     "output_type": "stream",
     "text": [
      "[35680.0, 42514.0, 15162.0, 35298.0, 29799.999999999996, 40255.0, 74532.0, 37464.0, 31030.000000000004, 24843.0, 36172.0, 39552.0, 72545.0, 75352.0, 18031.0]\n",
      "[array([2217.]), array([2761.]), array([990.]), array([2274.]), array([1865.]), array([2606.]), array([4805.]), array([2396.]), array([1993.]), array([1627.]), array([2375.]), array([2560.]), array([4597.]), array([4871.]), array([1119.])]\n"
     ]
    }
   ],
   "source": [
    "x_fig = [X_en[i][1] * maxima_X_en[1] for i in range(len(X_en))]\n",
    "y_fig = [yi * maxima_y_en for yi in y_en]\n",
    "print(x_fig)\n",
    "print(y_fig)"
   ]
  },
  {
   "cell_type": "markdown",
   "metadata": {},
   "source": [
    "#### We plot the points and the regression line"
   ]
  },
  {
   "cell_type": "code",
   "execution_count": 12,
   "metadata": {},
   "outputs": [
    {
     "data": {
      "image/png": "[encoded data removed]",
      "text/plain": [
       "<Figure size 432x288 with 1 Axes>"
      ]
     },
     "metadata": {},
     "output_type": "display_data"
    }
   ],
   "source": [
    "# Write your code here\n",
    "# plotting values\n",
    "\n",
    "# visualize the data points\n",
    "plt.scatter(x_fig, y_fig, s=20)\n",
    "\n",
    "plt.xlabel('X, Count of all letters ')\n",
    "plt.ylabel('y, Count of A in English')\n",
    "\n",
    "# plotting the regression line\n",
    "plt.plot([min(x_fig), max(x_fig)],\n",
    "         [[1, min(x_fig)] @ w, [1, max(x_fig)] @ w], color='r')\n",
    "\n",
    "#plt.title('Linear regression - Batch')\n",
    "plt.show()"
   ]
  },
  {
   "cell_type": "markdown",
   "metadata": {},
   "source": [
    "#### Sum of squared errors - Batch gradient"
   ]
  },
  {
   "cell_type": "code",
   "execution_count": 13,
   "metadata": {},
   "outputs": [
    {
     "data": {
      "image/png": "[encoded data removed]",
      "text/plain": [
       "<Figure size 432x288 with 1 Axes>"
      ]
     },
     "metadata": {},
     "output_type": "display_data"
    }
   ],
   "source": [
    "plt.scatter(range(len(logs[2::3])), logs[2::3], c='b', marker='x')\n",
    "plt.title(\"Batch gradient descent: Sum of squared errors\")\n",
    "plt.show()"
   ]
  },
  {
   "cell_type": "markdown",
   "metadata": {},
   "source": [
    "#### Stochastic descent"
   ]
  },
  {
   "cell_type": "code",
   "execution_count": 14,
   "metadata": {},
   "outputs": [
    {
     "name": "stdout",
     "output_type": "stream",
     "text": [
      "===Stochastic descent=== \n",
      "\n",
      "Epoch 499\n",
      "Weights [[0.00339067]\n",
      " [0.99373072]] \n",
      "\n",
      "Summed squared error, SSE =  [[0.00105848]] \n",
      "\n",
      "Restored weights [[16.51596702]\n",
      " [ 0.06423801]] \n",
      "\n"
     ]
    }
   ],
   "source": [
    "# Write your code here\n",
    "print(\"===Stochastic descent=== \\n\")\n",
    "w = np.zeros(X_en.shape[1]).reshape((-1, 1))\n",
    "\n",
    "# using the stochastic version\n",
    "w = fit_stoch(X_en, y_en, alpha, w, 500, 1.0e-5)\n",
    "\n",
    "print(\"Weights\", w, \"\\n\")\n",
    "print(\"Summed squared error, SSE = \", sse(X_en, y_en, w), \"\\n\")\n",
    "\n",
    "if scaled:\n",
    "    maxima_en_vec = maxima_en.reshape(-1, 1)\n",
    "    w = maxima_en_vec[-1, 0] * (w / maxima_en_vec[:-1, 0:1])\n",
    "    print(\"Restored weights\", w, \"\\n\")\n",
    "    #print(\"The coefficient is \", w[1,:])\n",
    "    #print(\"The intercept is \", w[0,:], \"\\n\")\n",
    "    \n",
    "if debug:\n",
    "    print(\"Logs\", logs)\n",
    "    print(\"Logs stoch.\", logs_stoch)"
   ]
  },
  {
   "cell_type": "markdown",
   "metadata": {},
   "source": [
    "- Visualize the points of your dataset as well as the regression lines you obtain using matplotlib or another similar program."
   ]
  },
  {
   "cell_type": "code",
   "execution_count": 15,
   "metadata": {},
   "outputs": [
    {
     "data": {
      "image/png": "[encoded data removed]",
      "text/plain": [
       "<Figure size 432x288 with 1 Axes>"
      ]
     },
     "metadata": {},
     "output_type": "display_data"
    }
   ],
   "source": [
    "# Write your code here\n",
    "plt.scatter(x_fig, y_fig)\n",
    "\n",
    "plt.xlabel('X, Frequency of all letters ')\n",
    "plt.ylabel('y, Frequency of As in English')\n",
    "\n",
    "plt.plot([min(x_fig), max(x_fig)],\n",
    "         [[1, min(x_fig)] @ w, [1, max(x_fig)] @ w], color='r')\n",
    "plt.show()"
   ]
  },
  {
   "cell_type": "markdown",
   "metadata": {},
   "source": [
    "#### Sum of squared errors by epoch - Stochastic gradient"
   ]
  },
  {
   "cell_type": "code",
   "execution_count": 16,
   "metadata": {},
   "outputs": [
    {
     "data": {
      "image/png": "[encoded data removed]",
      "text/plain": [
       "<Figure size 432x288 with 1 Axes>"
      ]
     },
     "metadata": {},
     "output_type": "display_data"
    }
   ],
   "source": [
    "plt.scatter(range(len(logs[2::3])), logs[2::3], c='b', marker='x')\n",
    "plt.title(\"Stochastic gradient descent: Sum of squared errors\")\n",
    "plt.show()"
   ]
  },
  {
   "cell_type": "markdown",
   "metadata": {},
   "source": [
    "### A solution to linear regression\n",
    "\n",
    "To help you start this assignment, your instructor wrote two Python notebooks that solve this exercise on linear regression. You can find them here: https://github.com/pnugues/ilppp/tree/master/programs/ch04/python\n",
    "The first notebook, `gradient_descent.ipynb`, only uses Python and vector operations such as the dot product that are in the `vector.py` file.\n",
    "The second notebook, `gradient_descent_numpy.ipynb`, uses Numpy. It is more compact, but you need to know a bit of numpy.\n",
    "\n",
    "To run these programs, download them on your computer as well as the other program in the import list: vector.py\n",
    "\n",
    "The programs are also available as Python programs from\n",
    "https://github.com/pnugues/ilppp/tree/master/programs/ch04/python"
   ]
  },
  {
   "cell_type": "markdown",
   "metadata": {},
   "source": [
    "## Classification\n",
    "You will use the same data set as for linear regression, but this time to classify a chapter as French or English. Given a pair of numbers corresponding the letter count and count of _A_, you will predict the language:\n",
    "1. $\\mathbf{x} = (35680, 2217)$ $\\to$ $y$ = English\n",
    "2. $\\mathbf{x} = (37497, 2641)$ $\\to$ $y$ = French"
   ]
  },
  {
   "cell_type": "markdown",
   "metadata": {},
   "source": [
    "### The dataset\n",
    "You will use the arrays below:\n",
    "1. `X` contains the counts of letters and of _A_ s as well as a column of ones for the intercept;\n",
    "2. `y` contains the classes, where 0 is for English and 1 for French."
   ]
  },
  {
   "cell_type": "code",
   "execution_count": 121,
   "metadata": {},
   "outputs": [],
   "source": [
    "X = [[1.0, 35680.0, 2217.0],\n",
    "     [1.0, 42514.0, 2761.0],\n",
    "     [1.0, 15162.0, 990.0],\n",
    "     [1.0, 35298.0, 2274.0],\n",
    "     [1.0, 29800.0, 1865.0],\n",
    "     [1.0, 40255.0, 2606.0],\n",
    "     [1.0, 74532.0, 4805.0],\n",
    "     [1.0, 37464.0, 2396.0],\n",
    "     [1.0, 31030.0, 1993.0],\n",
    "     [1.0, 24843.0, 1627.0],\n",
    "     [1.0, 36172.0, 2375.0],\n",
    "     [1.0, 39552.0, 2560.0],\n",
    "     [1.0, 72545.0, 4597.0],\n",
    "     [1.0, 75352.0, 4871.0],\n",
    "     [1.0, 18031.0, 1119.0],\n",
    "     [1.0, 36961.0, 2503.0],\n",
    "     [1.0, 43621.0, 2992.0],\n",
    "     [1.0, 15694.0, 1042.0],\n",
    "     [1.0, 36231.0, 2487.0],\n",
    "     [1.0, 29945.0, 2014.0],\n",
    "     [1.0, 40588.0, 2805.0],\n",
    "     [1.0, 75255.0, 5062.0],\n",
    "     [1.0, 37709.0, 2643.0],\n",
    "     [1.0, 30899.0, 2126.0],\n",
    "     [1.0, 25486.0, 1784.0],\n",
    "     [1.0, 37497.0, 2641.0],\n",
    "     [1.0, 40398.0, 2766.0],\n",
    "     [1.0, 74105.0, 5047.0],\n",
    "     [1.0, 76725.0, 5312.0],\n",
    "     [1.0, 18317.0, 1215.0]]\n",
    "y = [0.0, 0.0, 0.0, 0.0, 0.0, 0.0, 0.0, 0.0, 0.0, 0.0, 0.0, 0.0, 0.0, 0.0, 0.0,\n",
    "     1.0, 1.0, 1.0, 1.0, 1.0, 1.0, 1.0, 1.0, 1.0, 1.0, 1.0, 1.0, 1.0, 1.0, 1.0]"
   ]
  },
  {
   "cell_type": "markdown",
   "metadata": {},
   "source": [
    "We visualize it"
   ]
  },
  {
   "cell_type": "code",
   "execution_count": 122,
   "metadata": {},
   "outputs": [],
   "source": [
    "x_fr = [x[1] for i, x in enumerate(X) if y[i] == 1]\n",
    "y_fr = [x[2] for i, x in enumerate(X) if y[i] == 1]\n",
    "x_en = [x[1] for i, x in enumerate(X) if y[i] == 0]\n",
    "y_en = [x[2] for i, x in enumerate(X) if y[i] == 0]"
   ]
  },
  {
   "cell_type": "code",
   "execution_count": 123,
   "metadata": {},
   "outputs": [
    {
     "data": {
      "text/plain": [
       "<matplotlib.collections.PathCollection at 0x2cfe8596240>"
      ]
     },
     "execution_count": 123,
     "metadata": {},
     "output_type": "execute_result"
    },
    {
     "data": {
      "image/png": "[encoded data removed]",
      "text/plain": [
       "<Figure size 432x288 with 1 Axes>"
      ]
     },
     "metadata": {},
     "output_type": "display_data"
    }
   ],
   "source": [
    "plt.scatter(x_fr, y_fr, color='red')\n",
    "plt.scatter(x_en, y_en, color='blue')"
   ]
  },
  {
   "cell_type": "markdown",
   "metadata": {},
   "source": [
    "### Normalize the dataset"
   ]
  },
  {
   "cell_type": "markdown",
   "metadata": {},
   "source": [
    "Gradient descent algorithms can be very sensitive to the range. Therefore, we normalize the dataset."
   ]
  },
  {
   "cell_type": "code",
   "execution_count": 124,
   "metadata": {},
   "outputs": [],
   "source": [
    "def normalize(observations):\n",
    "    maxima = [max([obs[i] for obs in observations]) for i in range(len(observations[0]))]\n",
    "    return ([[obs[i] / maxima[i]\n",
    "              for i in range(len(observations[0]))] for obs in observations],\n",
    "            maxima)"
   ]
  },
  {
   "cell_type": "code",
   "execution_count": 125,
   "metadata": {},
   "outputs": [
    {
     "data": {
      "text/plain": [
       "[[1.0, 0.4650374714890844, 0.4173569277108434],\n",
       " [1.0, 0.5541088302378625, 0.5197665662650602],\n",
       " [1.0, 0.19761485826001954, 0.18637048192771086],\n",
       " [1.0, 0.460058651026393, 0.42808734939759036],\n",
       " [1.0, 0.3884001303356142, 0.3510918674698795],\n",
       " [1.0, 0.5246660149885957, 0.49058734939759036],\n",
       " [1.0, 0.9714173998044966, 0.9045557228915663],\n",
       " [1.0, 0.4882893450635386, 0.4510542168674699],\n",
       " [1.0, 0.4044314108830238, 0.37518825301204817],\n",
       " [1.0, 0.32379276637341153, 0.30628765060240964],\n",
       " [1.0, 0.47144998370804825, 0.4471009036144578],\n",
       " [1.0, 0.5155034213098729, 0.4819277108433735],\n",
       " [1.0, 0.9455197132616487, 0.8653990963855421],\n",
       " [1.0, 0.9821049201694363, 0.916980421686747],\n",
       " [1.0, 0.2350081459758879, 0.21065512048192772],\n",
       " [1.0, 0.48173346366894754, 0.4711972891566265],\n",
       " [1.0, 0.5685369827305311, 0.5632530120481928],\n",
       " [1.0, 0.2045487129358097, 0.19615963855421686],\n",
       " [1.0, 0.47221896383186707, 0.46818524096385544],\n",
       " [1.0, 0.39028999674160963, 0.37914156626506024],\n",
       " [1.0, 0.5290061909416748, 0.5280496987951807],\n",
       " [1.0, 0.9808406647116324, 0.9529367469879518],\n",
       " [1.0, 0.49148256761159986, 0.4975527108433735],\n",
       " [1.0, 0.40272401433691757, 0.4002259036144578],\n",
       " [1.0, 0.3321733463668948, 0.3358433734939759],\n",
       " [1.0, 0.4887194525904203, 0.4971762048192771],\n",
       " [1.0, 0.5265298142717497, 0.5207078313253012],\n",
       " [1.0, 0.9658520690778756, 0.9501129518072289],\n",
       " [1.0, 1.0, 1.0],\n",
       " [1.0, 0.23873574454219615, 0.22872740963855423]]"
      ]
     },
     "execution_count": 125,
     "metadata": {},
     "output_type": "execute_result"
    }
   ],
   "source": [
    "X_norm, maxima = normalize(X)\n",
    "X_norm"
   ]
  },
  {
   "cell_type": "markdown",
   "metadata": {},
   "source": [
    "#### convert to numpy array"
   ]
  },
  {
   "cell_type": "code",
   "execution_count": 126,
   "metadata": {},
   "outputs": [],
   "source": [
    "XXX_norm = np.array(X_norm)\n",
    "#XXX_norm.shape[1]\n",
    "#z1 = np.zeros(XXX_norm.shape[1])\n",
    "#z = np.zeros(XXX_norm.shape[1]).reshape(-1,1)\n",
    "#z1 = [0]*len(X_norm[0])\n",
    "#XXX_norm\n",
    "#X_norm[0]\n",
    "#len(X_norm)\n",
    "#z1"
   ]
  },
  {
   "cell_type": "markdown",
   "metadata": {},
   "source": [
    "## 2 - The Perceptron <a name=\"t2\"/>\n",
    "\n",
    "1. Write the perceptron program as explained in pages 723--725 in Russell-Norvig and in the slides and run it on your data set. As suggested program structure, use two functions: \n",
    " * `fit(X, y)` that will return `w` (the model). You can choose a stochastic or batch variant;\n",
    " * `predict(X, w)` that will return `y_hat`. You can encapsulate these functions in a class and, of course, add more parameters.\n",
    "2. As a stop criterion, you will use the number of misclassified examples.\n",
    "3. You will report the parameters you have used and the weight vector\n",
    "\n",
    "You can use numpy or not. The next cells are just suggested steps. You can implement it your way."
   ]
  },
  {
   "cell_type": "markdown",
   "metadata": {},
   "source": [
    "### The `predict(X, w)` function\n",
    "Write a `predict(X, w)` function that given a matrix of observations $\\mathbf{X}$ and a weight vector $\\mathbf{w}$ will return a $\\mathbf{\\hat{y}}$ vector classes (0 or 1)"
   ]
  },
  {
   "cell_type": "markdown",
   "metadata": {},
   "source": [
    "####  Simple threshold activation function for the perceptron classifier"
   ]
  },
  {
   "cell_type": "code",
   "execution_count": 100,
   "metadata": {},
   "outputs": [],
   "source": [
    "# Write your code here\n",
    "#def hw_threshold(x,w):\n",
    "def predict(X, w):\n",
    "    thresh = X @ w\n",
    "    #print(thresh.shape)\n",
    "    #print(thresh)\n",
    "    \n",
    "    for i in range(0, len(thresh)):\n",
    "        #return 1 if x @ w >= 0.0 else 0\n",
    "        if thresh[i] >= 0.0:\n",
    "            thresh[i] = 1.0\n",
    "        else:\n",
    "            thresh[i] = 0\n",
    "            \n",
    "    return thresh"
   ]
  },
  {
   "cell_type": "markdown",
   "metadata": {},
   "source": [
    "### The `fit(X, y)` function"
   ]
  },
  {
   "cell_type": "markdown",
   "metadata": {},
   "source": [
    "Write a `fit(X, y)` function that given a **matrix of observations** $\\mathbf{X}$ and a **vector of responses** $\\mathbf{y}$ will return a weight $\\mathbf{w}$ vector. You may use the other arguments of the function, notably the number of misclassified examples to define the **stop condition**."
   ]
  },
  {
   "cell_type": "markdown",
   "metadata": {},
   "source": [
    "###### Stochastic descent Perceptron\n",
    "Function to apply the stochastic descent: where we consider <br>\n",
    "only a single training point at a time, taking a step after each one."
   ]
  },
  {
   "cell_type": "code",
   "execution_count": 101,
   "metadata": {},
   "outputs": [],
   "source": [
    "# Write your code here\n",
    "import random\n",
    "#import vector\n",
    "\n",
    "def fit_stoch_perceptron(X, y, alpha,\n",
    "              epochs=1000,\n",
    "              max_misclassified=0,\n",
    "              verbose=True):\n",
    "    \"\"\"\n",
    "    Stochastic gradient descent\n",
    "    :param X:\n",
    "    :param y:\n",
    "    :param alpha:\n",
    "    :param w:\n",
    "    :epochs:\n",
    "    :max_misclassified:\n",
    "    :return:\n",
    "    \"\"\"\n",
    "    global logs, logs_stoch\n",
    "    logs = []\n",
    "    logs_stoch = []\n",
    "    \n",
    "    random.seed(0)\n",
    "    idx = list(range(len(X)))\n",
    "    \n",
    "    w = np.zeros(X.shape[1]).reshape((-1, 1))\n",
    "    #w = np.zeros(X_norm[0])\n",
    "    #w = [0]*len(X_norm[0])\n",
    "    \n",
    "    #for epoch in range(500):\n",
    "    for epoch in range(epochs):\n",
    "        random.shuffle(idx)\n",
    "        #w_old = w\n",
    "        \n",
    "        sum_misclassified = 0\n",
    "        for i in idx:\n",
    "            \n",
    "            # the loss function \n",
    "            \n",
    "            # in case of gradient descent method\n",
    "            #loss = y[i] - X[i] @ w    # here hw_gradient = x*w\n",
    "            #gradient = loss * X[i].reshape(-1, 1)\n",
    "            \n",
    "            # in case of perceptron method\n",
    "            #h_w = hw_threshold(X, w)\n",
    "            h_w = predict(X, w)\n",
    "            delta = y[i] - h_w[i]\n",
    "                        \n",
    "            if delta != 0:\n",
    "                sum_misclassified += 1\n",
    "                \n",
    "            # in case of logistic regression\n",
    "            #h_w = hw_logistic(w, X[i].reshape(-1, 1))\n",
    "            #delta = (y[i] - h_w) * h_w * (1 - h_w)\n",
    "            \n",
    "            # the weight updating rule\n",
    "            #w = w + alpha * gradient\n",
    "            w = w + alpha * delta * X[i].reshape(-1, 1)\n",
    "                       \n",
    "            #logs_stoch += (w, alpha, sse(X, y, w))\n",
    "        \n",
    "        #print(\"Epochs: \", epoch)\n",
    "        # stop criterion\n",
    "        if sum_misclassified <= max_misclassified:\n",
    "            #print(\"Epochs: \", epoch)\n",
    "            break\n",
    "         \n",
    "        #print(\"Epochs: \", epoch)\n",
    "        #if np.linalg.norm(w - w_old) / np.linalg.norm(w) < 0.005:\n",
    "            #print(\"Epochs: \", epoch)\n",
    "        #    break\n",
    "            \n",
    "        #logs += (w, alpha, sse(X, y, w))\n",
    "        #print(\"Epochs: \", epoch)\n",
    "    print(\"Misclassified observations: \", sum_misclassified)\n",
    "    print(\"Epochs: \", epoch)    \n",
    "    #return w.reshape(-1,1)\n",
    "    return w\n"
   ]
  },
  {
   "cell_type": "markdown",
   "metadata": {},
   "source": [
    "### Fitting the dataset"
   ]
  },
  {
   "cell_type": "code",
   "execution_count": 102,
   "metadata": {},
   "outputs": [
    {
     "name": "stdout",
     "output_type": "stream",
     "text": [
      "=== Stochastic Descent Perceptron === \n",
      "\n",
      "Misclassified observations:  0\n",
      "Epochs:  30\n",
      "Weights:  [[0.0, -3.805630498533728, 3.9828689759036155]]\n"
     ]
    }
   ],
   "source": [
    "print(\"=== Stochastic Descent Perceptron === \\n\")\n",
    "#w = fit_stoch_perceptron(X_norm, y)\n",
    "#w = fit_stoch_perceptron(X_norm, y, alpha, w, 1000, 30 )\n",
    "w = fit_stoch_perceptron(XXX_norm, y, alpha, 50, 5 )\n",
    "#w.reshape(1,-1)\n",
    "weights = w.reshape(1,-1).tolist()\n",
    "print(\"Weights: \", weights)"
   ]
  },
  {
   "cell_type": "code",
   "execution_count": 103,
   "metadata": {},
   "outputs": [
    {
     "name": "stdout",
     "output_type": "stream",
     "text": [
      "Restored weights [array([0.]), array([-0.26348008]), array([3.98286898])]\n",
      "Weights with y set to 1 [array([0.]), array([-0.06615334]), array([1.])]\n"
     ]
    }
   ],
   "source": [
    "w = [w[i] * maxima[-1] / maxima[i] for i in range(len(w))]\n",
    "print(\"Restored weights\", w)\n",
    "\n",
    "w = [w[j] / w[-1] for j in range(len(w))]\n",
    "print(\"Weights with y set to 1\", w)"
   ]
  },
  {
   "cell_type": "markdown",
   "metadata": {},
   "source": [
    "### Visualizing the results"
   ]
  },
  {
   "cell_type": "code",
   "execution_count": 104,
   "metadata": {},
   "outputs": [
    {
     "data": {
      "text/plain": [
       "Text(0.5,1,'Perceptron Classifier')"
      ]
     },
     "execution_count": 104,
     "metadata": {},
     "output_type": "execute_result"
    },
    {
     "data": {
      "image/png": "[encoded data removed]",
      "text/plain": [
       "<Figure size 432x288 with 1 Axes>"
      ]
     },
     "metadata": {},
     "output_type": "display_data"
    }
   ],
   "source": [
    "plt.scatter(x_fr, y_fr, color='red')\n",
    "plt.scatter(x_en, y_en, color='blue')\n",
    "plt.plot([min(x_fr + x_en), max(x_fr + x_en)],\n",
    "             [-w[1] * min(x_fr + x_en) - w[0], -w[1] * max(x_fr + x_en) - w[0]])\n",
    "\n",
    "plt.xlabel('Total count of characters in 15 chapters')\n",
    "plt.ylabel('Count of letters A')\n",
    "plt.title('Perceptron Classifier')"
   ]
  },
  {
   "cell_type": "markdown",
   "metadata": {},
   "source": [
    "### Evaluation\n",
    "Evaluate your perceptron using the **leave-one-out cross validation** method. You will have to train and run 30 models. In each train/run session, you will train on 29 samples and evaluate on the remaining sample. You have then either a correct or a wrong classification. You will sum these classifications, i.e. the number of **correct classifications**, to get your final evaluation, for instance 29/30."
   ]
  },
  {
   "cell_type": "code",
   "execution_count": 108,
   "metadata": {},
   "outputs": [],
   "source": [
    "# Write your code here\n",
    "def leave_one_out_cross_val(X, y, fitting_function):\n",
    "#def loo_cross_validation(X, y, classifier):\n",
    "    #mismatches = 0\n",
    "    matches = 0\n",
    "    \n",
    "    for i in range(len(X)):\n",
    "        w = np.zeros(X.shape[1]).reshape(-1, 1)\n",
    "        #print(\"Fold \", i, \"on 30: \")\n",
    "        \n",
    "        # split the dataset\n",
    "        x_test = X[i]\n",
    "        X_train = np.delete(X, i, 0)\n",
    "        \n",
    "        y_test = y[i]\n",
    "        y_train = np.delete(y, i)\n",
    "        \n",
    "        # Use the selected classifier to derive the weights \n",
    "        #w = classifier(X_train, y_train,1.0, w)\n",
    "        w = fitting_function(X_train, y_train, 100, 1000, 1.0e-4)\n",
    "        #w = fit_stoch_perceptron(XXX_norm, y, alpha, 1000, 30 )\n",
    "        \n",
    "        # Check which class the classifier predicted for the test set.\n",
    "        y_tilde = 1 if x_test @ w >= 0 else 0 \n",
    "        \n",
    "        # Check if the predicted class is correct\n",
    "        # otherwise we increase the error count by 1.\n",
    "        #if y_test != y_tilde: \n",
    "        if y_test == y_tilde: \n",
    "            #mismatches += 1\n",
    "            #print('Correct')\n",
    "            matches += 1\n",
    "    \n",
    "        print(\"Fold \", i, \"on 30: \")\n",
    "    #print('Error rate: ',mismatches)\n",
    "    #print(\" === Evaluation using Leave-one-out cross validation === \\n\") \n",
    "    print('Correct classifications: ',matches)\n",
    "    #return mismatches / len(X) # Return the error rate.\n",
    "    return matches / len(X) # Return the accuracy.\n",
    "\n",
    "# Fold 2 on 30: epochs: 43, weights: [0.0, -4.842932551319658, 5.063629518072292]: Correct.\n"
   ]
  },
  {
   "cell_type": "code",
   "execution_count": 109,
   "metadata": {
    "scrolled": true
   },
   "outputs": [
    {
     "name": "stdout",
     "output_type": "stream",
     "text": [
      "Misclassified observations:  17\n",
      "Epochs:  999\n",
      "Fold  0 on 30: \n",
      "Misclassified observations:  17\n",
      "Epochs:  999\n",
      "Fold  1 on 30: \n",
      "Misclassified observations:  23\n",
      "Epochs:  999\n",
      "Fold  2 on 30: \n",
      "Misclassified observations:  17\n",
      "Epochs:  999\n",
      "Fold  3 on 30: \n",
      "Misclassified observations:  17\n",
      "Epochs:  999\n",
      "Fold  4 on 30: \n",
      "Misclassified observations:  17\n",
      "Epochs:  999\n",
      "Fold  5 on 30: \n",
      "Misclassified observations:  17\n",
      "Epochs:  999\n",
      "Fold  6 on 30: \n",
      "Misclassified observations:  17\n",
      "Epochs:  999\n",
      "Fold  7 on 30: \n",
      "Misclassified observations:  17\n",
      "Epochs:  999\n",
      "Fold  8 on 30: \n",
      "Misclassified observations:  17\n",
      "Epochs:  999\n",
      "Fold  9 on 30: \n",
      "Misclassified observations:  17\n",
      "Epochs:  999\n",
      "Fold  10 on 30: \n",
      "Misclassified observations:  17\n",
      "Epochs:  999\n",
      "Fold  11 on 30: \n",
      "Misclassified observations:  17\n",
      "Epochs:  999\n",
      "Fold  12 on 30: \n",
      "Misclassified observations:  17\n",
      "Epochs:  999\n",
      "Fold  13 on 30: \n",
      "Misclassified observations:  17\n",
      "Epochs:  999\n",
      "Fold  14 on 30: \n",
      "Misclassified observations:  18\n",
      "Epochs:  999\n",
      "Fold  15 on 30: \n",
      "Misclassified observations:  18\n",
      "Epochs:  999\n",
      "Fold  16 on 30: \n",
      "Misclassified observations:  17\n",
      "Epochs:  999\n",
      "Fold  17 on 30: \n",
      "Misclassified observations:  18\n",
      "Epochs:  999\n",
      "Fold  18 on 30: \n",
      "Misclassified observations:  17\n",
      "Epochs:  999\n",
      "Fold  19 on 30: \n",
      "Misclassified observations:  18\n",
      "Epochs:  999\n",
      "Fold  20 on 30: \n",
      "Misclassified observations:  18\n",
      "Epochs:  999\n",
      "Fold  21 on 30: \n",
      "Misclassified observations:  18\n",
      "Epochs:  999\n",
      "Fold  22 on 30: \n",
      "Misclassified observations:  18\n",
      "Epochs:  999\n",
      "Fold  23 on 30: \n",
      "Misclassified observations:  18\n",
      "Epochs:  999\n",
      "Fold  24 on 30: \n",
      "Misclassified observations:  18\n",
      "Epochs:  999\n",
      "Fold  25 on 30: \n",
      "Misclassified observations:  18\n",
      "Epochs:  999\n",
      "Fold  26 on 30: \n",
      "Misclassified observations:  18\n",
      "Epochs:  999\n",
      "Fold  27 on 30: \n",
      "Misclassified observations:  18\n",
      "Epochs:  999\n",
      "Fold  28 on 30: \n",
      "Misclassified observations:  17\n",
      "Epochs:  999\n",
      "Fold  29 on 30: \n",
      "Correct classifications:  29\n",
      "Cross-validation accuracy (stochastic): 0.9666666666666667\n"
     ]
    }
   ],
   "source": [
    "#print(\"=== Evaluation using Leave-one-out cross validation === \\n\")\n",
    "#stoch_accuracy = leave_one_out_cross_val(X_norm, y, fit_stoch)\n",
    "stoch_accuracy = leave_one_out_cross_val(XXX_norm, y, fit_stoch_perceptron)\n",
    "print('Cross-validation accuracy (stochastic):', stoch_accuracy)"
   ]
  },
  {
   "cell_type": "markdown",
   "metadata": {},
   "source": [
    "## 3 - Logistic Regression <a name=\"t3\"/>\n",
    "From your perceptron program, implement logistic regression. You can either follow the description from the textbook, S. Russell and R. Norvig, _Artificial Intelligence_, 2010, pages 725--727, or the slides. You can either implement the stochastic or the batch version of the algorithm, or both versions. As **stop criterion**, you will use either the norm of the gradient or the norm of the difference between two consecutive weight vectors. You will also set a **maximal number of epochs**. Run the resulting program on your data set."
   ]
  },
  {
   "cell_type": "markdown",
   "metadata": {},
   "source": [
    "#### Logistic activation function\n",
    "Write the logistic function, where the $x$ input is a real number."
   ]
  },
  {
   "cell_type": "code",
   "execution_count": 127,
   "metadata": {},
   "outputs": [],
   "source": [
    "# Write your code here\n",
    "def logistic(x):\n",
    "    return 1 / (1 + np.exp(-x))\n"
   ]
  },
  {
   "cell_type": "markdown",
   "metadata": {},
   "source": [
    "### The `predict(X, w)` function"
   ]
  },
  {
   "cell_type": "markdown",
   "metadata": {},
   "source": [
    "Write a `predict_proba()` function that given a matrix of observations $\\mathbf{X}$ and a weight vector $\\mathbf{w}$ will return a **vector of probabilities** to belong to class 1: The vector will consist of $P(1|\\mathbf{x}_i)$ for all the $i$ rows of $\\mathbf{X}$."
   ]
  },
  {
   "cell_type": "code",
   "execution_count": 128,
   "metadata": {},
   "outputs": [],
   "source": [
    "# Write your code here\n",
    "def predict_proba(X, w):\n",
    "     return X @ w\n"
   ]
  },
  {
   "cell_type": "markdown",
   "metadata": {},
   "source": [
    "Write a `predict(X, w)` function that given a matrix of observations $\\mathbf{X}$ and a weight vector $\\mathbf{w}$ will return the class. You will use `predict_proba()` and set the threshold to belong to class 1 to 0.5."
   ]
  },
  {
   "cell_type": "code",
   "execution_count": 129,
   "metadata": {},
   "outputs": [],
   "source": [
    "# Write your code here\n",
    "def predict(X, w):\n",
    "    probs = logistic(predict_proba(X, w))\n",
    "    return probs\n"
   ]
  },
  {
   "cell_type": "markdown",
   "metadata": {},
   "source": [
    "### The `fit(X, y)` function"
   ]
  },
  {
   "cell_type": "markdown",
   "metadata": {},
   "source": [
    "You will now write the `fit(X, y)` function as with the perceptron. You may call it `fit_stoch(X, y)` or `fit_batch(X, y)`. Use the parameters given in the cell below."
   ]
  },
  {
   "cell_type": "code",
   "execution_count": 130,
   "metadata": {},
   "outputs": [],
   "source": [
    "# Write your code here\n",
    "import random\n",
    "def fit_stoch_logistic(X, y, alpha=100,\n",
    "              epochs=1000,\n",
    "              epsilon=1.0e-4,\n",
    "              verbose=False):\n",
    "    \"\"\"\n",
    "    Stochastic gradient descent\n",
    "    :param X:\n",
    "    :param y:\n",
    "    :param alpha:\n",
    "    :param epochs:\n",
    "    :param epsilon:\n",
    "    :return:\n",
    "    \"\"\"\n",
    "    global logs, logs_stoch\n",
    "    logs = []\n",
    "    logs_stoch = []\n",
    "    random.seed(0)\n",
    "    \"\"\"\n",
    "    In the algorithm, we have assumed a fixed learning rate $\\alpha = 100$ \n",
    "    and by slowly letting the learning rate $\\alpha$ decrease to zero as \n",
    "    the algorithm runs, by multiplying by 0.99. \n",
    "    In this way, it is possible to ensure that the parameters will converge \n",
    "    to the global minimum rather than merely oscillate around the minimum.\n",
    "    \"\"\"\n",
    "    \n",
    "    idx = list(range(len(X)))\n",
    "    #print(idx)\n",
    "    #alpha = 100\n",
    "    \n",
    "    w = np.zeros(X.shape[1]).reshape((-1, 1))\n",
    "    \n",
    "    \n",
    "    #for epoch in range(500):\n",
    "    for epoch in range(epochs):\n",
    "        random.shuffle(idx)\n",
    "        avrageGrad = np.zeros(X.shape[1]).reshape((-1, 1))\n",
    "        \n",
    "        w_old = w\n",
    "        #alpha *= 0.99\n",
    "        \n",
    "        for i in idx:\n",
    "            \n",
    "            # the loss function \n",
    "            \n",
    "            # in case of gradient descent method\n",
    "            #loss = y[i] - X[i] @ w    # here hw_gradient = x*w\n",
    "            #gradient = loss * X[i].reshape(-1, 1)\n",
    "            \n",
    "            # in case of perceptron method\n",
    "            #h_w = hw_threshold(X, w)\n",
    "            #delta = y[i] - h_w[i]\n",
    "            \n",
    "            # in case of logistic regression\n",
    "            #h_w = hw_logistic(X, w)\n",
    "            \n",
    "            #h_w = logistic(X[i] @ w)\n",
    "            #h_w = probability(X[i], w)\n",
    "            #print(h_w)\n",
    "            #delta = (y[i] - h_w[i])\n",
    "            #delta = (y[i] - logistic(X[i] @ w))    # slide 47\n",
    "            delta = y[i] - predict(X[i], w)\n",
    "            \n",
    "            # DEBUGGING\n",
    "            #print(\"delta\", delta.shape)\n",
    "            #print(\"X\", X.shape)\n",
    "            #print(\"Xi\", X[i].shape)\n",
    "            #print(\"w\", w.shape)\n",
    "                        \n",
    "            #delta = (y[i] - h_w) * h_w * (1 - h_w)\n",
    "            #delta = (y[i] - h_w[i]) * h_w[i] * (1 - h_w[i])  # Aima eq 18.8 \n",
    "            #delta = (y[i] - h_w) @ h_w.T @ (1 - h_w)\n",
    "            \n",
    "            gradient = delta * X[i].reshape(-1, 1)\n",
    "            #print(\"Gradient\", np.linalg.norm(gradient))\n",
    "            avrageGrad = avrageGrad + gradient\n",
    "            \n",
    "            # the weight updating rule\n",
    "            #w = w + alpha * gradient\n",
    "            #w = w + alpha * delta * X[i].reshape(-1, 1)  # shapes (30,1) (3,1)\n",
    "            w = w + alpha * gradient\n",
    "            \n",
    "            logs_stoch += (w, alpha, sse(X, y, w))\n",
    "            \n",
    "        if np.linalg.norm(avrageGrad) < epsilon:\n",
    "        #if np.linalg.norm(w - w_old) / np.linalg.norm(w) < epsilon:\n",
    "            print(\"Epochs\", epoch)\n",
    "            break\n",
    "            \n",
    "        logs += (w, alpha, sse(X, y, w))\n",
    "        \n",
    "    return w\n",
    "    \n"
   ]
  },
  {
   "cell_type": "code",
   "execution_count": 131,
   "metadata": {},
   "outputs": [
    {
     "name": "stdout",
     "output_type": "stream",
     "text": [
      "=== Stochastic Descent Logistic === \n",
      "\n",
      "Epochs 596\n",
      "Logistic Weights: \n",
      " [[2.073225839414742, -3769.1505527855234, 3952.204257002531]]\n"
     ]
    }
   ],
   "source": [
    "print(\"=== Stochastic Descent Logistic === \\n\")\n",
    "#w = fit_stoch(X_norm, y, verbose=True)\n",
    "w = fit_stoch_logistic(XXX_norm, y, verbose=True)\n",
    "weights = w.reshape(1,-1).tolist()\n",
    "print(\"Logistic Weights: \\n\", weights)"
   ]
  },
  {
   "cell_type": "code",
   "execution_count": 132,
   "metadata": {},
   "outputs": [
    {
     "name": "stdout",
     "output_type": "stream",
     "text": [
      "Logistic Restored Weights \n",
      " [array([2.07322584]), array([-0.04912546]), array([0.74401436])]\n",
      "Weights with y set to 1 \n",
      " [array([2.7865401]), array([-0.06602756]), array([1.])]\n"
     ]
    }
   ],
   "source": [
    "w = [w[i] / maxima[i] for i in range(len(w))]\n",
    "print(\"Logistic Restored Weights \\n\", w)\n",
    "w = [w[j] / w[-1] for j in range(len(w))]\n",
    "print(\"Weights with y set to 1 \\n\", w)"
   ]
  },
  {
   "cell_type": "markdown",
   "metadata": {},
   "source": [
    "### Visualizing the results"
   ]
  },
  {
   "cell_type": "code",
   "execution_count": 133,
   "metadata": {},
   "outputs": [
    {
     "data": {
      "image/png": "[encoded data removed]",
      "text/plain": [
       "<Figure size 432x288 with 1 Axes>"
      ]
     },
     "metadata": {},
     "output_type": "display_data"
    }
   ],
   "source": [
    "plt.scatter(x_fr, y_fr, color='red')\n",
    "plt.scatter(x_en, y_en, color='blue')\n",
    "plt.plot([min(x_fr + x_en), max(x_fr + x_en)],\n",
    "         [-w[1] * min(x_fr + x_en) - w[0], -w[1] * max(x_fr + x_en) - w[0]])\n",
    "\n",
    "plt.xlabel('Total count of characters in 15 chapters')\n",
    "plt.ylabel('Count of letters A')\n",
    "\n",
    "plt.title('Logistic regression Classifier')\n",
    "plt.show()"
   ]
  },
  {
   "cell_type": "markdown",
   "metadata": {},
   "source": [
    "### Evaluation\n",
    "Evaluate your logistic regression using the **leave-one-out cross validation** method as with the perceptron"
   ]
  },
  {
   "cell_type": "code",
   "execution_count": 71,
   "metadata": {},
   "outputs": [],
   "source": [
    "# Write your code here\n",
    "#def leave_one_out_cross_val(X, y, fitting_function):\n",
    "#def leave_one_out_cross_val(XXX_norm, y, fit_stoch_logistic):\n"
   ]
  },
  {
   "cell_type": "code",
   "execution_count": 120,
   "metadata": {},
   "outputs": [
    {
     "name": "stdout",
     "output_type": "stream",
     "text": [
      "Fold  0 on 30: \n",
      "Epochs 642\n",
      "Fold  1 on 30: \n",
      "Epochs 359\n",
      "Fold  2 on 30: \n",
      "Epochs 982\n",
      "Fold  3 on 30: \n",
      "Epochs 645\n",
      "Fold  4 on 30: \n",
      "Epochs 537\n",
      "Fold  5 on 30: \n",
      "Epochs 636\n",
      "Fold  6 on 30: \n",
      "Fold  7 on 30: \n",
      "Epochs 824\n",
      "Fold  8 on 30: \n",
      "Epochs 683\n",
      "Fold  9 on 30: \n",
      "Epochs 571\n",
      "Fold  10 on 30: \n",
      "Epochs 685\n",
      "Fold  11 on 30: \n",
      "Epochs 576\n",
      "Fold  12 on 30: \n",
      "Epochs 604\n",
      "Fold  13 on 30: \n",
      "Epochs 458\n",
      "Fold  14 on 30: \n",
      "Epochs 681\n",
      "Fold  15 on 30: \n",
      "Epochs 571\n",
      "Fold  16 on 30: \n",
      "Epochs 853\n",
      "Fold  17 on 30: \n",
      "Epochs 561\n",
      "Fold  18 on 30: \n",
      "Fold  19 on 30: \n",
      "Epochs 696\n",
      "Fold  20 on 30: \n",
      "Fold  21 on 30: \n",
      "Epochs 639\n",
      "Fold  22 on 30: \n",
      "Epochs 440\n",
      "Fold  23 on 30: \n",
      "Fold  24 on 30: \n",
      "Epochs 531\n",
      "Fold  25 on 30: \n",
      "Epochs 561\n",
      "Fold  26 on 30: \n",
      "Epochs 981\n",
      "Fold  27 on 30: \n",
      "Epochs 440\n",
      "Fold  28 on 30: \n",
      "Epochs 528\n",
      "Fold  29 on 30: \n",
      "Correct classifications:  29\n",
      "Cross-validation accuracy (batch): 0.9666666666666667\n"
     ]
    }
   ],
   "source": [
    "stoch_accuracy_logistic = leave_one_out_cross_val(XXX_norm, y, fit_stoch_logistic)\n",
    "print('Cross-validation accuracy (batch):', stoch_accuracy_logistic)"
   ]
  },
  {
   "cell_type": "markdown",
   "metadata": {},
   "source": [
    "## Visualizing the logistic surface"
   ]
  },
  {
   "cell_type": "code",
   "execution_count": 134,
   "metadata": {},
   "outputs": [],
   "source": [
    "def plot_logistic_surf(x_range, y_range, w_opt):\n",
    "    z_axis = np.array([[0.0] * len(y_range) for i in range(len(x_range))])\n",
    "    x_axis, y_axis = np.meshgrid(x_range, y_range)\n",
    "    z_axis = z_axis.reshape(x_axis.shape)\n",
    "\n",
    "    # We compute the probability surface as a function of x and y\n",
    "    for i in range(len(x_range)):\n",
    "        for j in range(len(y_range)):\n",
    "            z_axis[j, i] = logistic(np.dot([1, x_range[i], y_range[j]], w_opt))\n",
    "    return x_axis, y_axis, z_axis"
   ]
  },
  {
   "cell_type": "code",
   "execution_count": 135,
   "metadata": {},
   "outputs": [
    {
     "data": {
      "image/png": "[encoded data removed]",
      "text/plain": [
       "<Figure size 432x288 with 2 Axes>"
      ]
     },
     "metadata": {},
     "output_type": "display_data"
    }
   ],
   "source": [
    "x_range = np.linspace(0, 100000, 200)\n",
    "y_range = np.linspace(0, 10000, 200)\n",
    "#w = [2.073225839414742, -0.049125455233437906, 0.7440143556104162]\n",
    "\n",
    "x_axis, y_axis, z_axis = plot_logistic_surf(x_range, y_range, w)\n",
    "\n",
    "fig = plt.figure()\n",
    "ax = Axes3D(fig)\n",
    "# ax = fig.gca(projection='3d')\n",
    "\n",
    "surf = ax.plot_surface(y_axis, x_axis, z_axis, rstride=1, cstride=1, cmap=cm.coolwarm,\n",
    "                       linewidth=0, antialiased=False, alpha=0.2)\n",
    "fig.colorbar(surf, shrink=0.5, aspect=5)\n",
    "# We plot the observations\n",
    "for x, y_class in zip(X, y):\n",
    "    if y_class == 1:\n",
    "        ax.scatter(x[2], x[1], y_class, color='green', marker='x')\n",
    "    else:\n",
    "        ax.scatter(x[2], x[1], y_class, color='red', marker='x')\n",
    "\n",
    "ax.elev = 30 \n",
    "ax.azim = -150\n",
    "plt.show()"
   ]
  },
  {
   "cell_type": "markdown",
   "metadata": {},
   "source": [
    "## Programming logistic regression with popular APIs <a name=\"t4\"/>\n",
    "Should you use logistic regression in a project, you will probably resort to existing libraries. In the next cells, you will apply the logistic regression classification with two popular APIs:\n",
    "1. sklearn\n",
    "2. Keras\n",
    "\n",
    "`sklearn` is included in anaconda.\n",
    "You will install the rest with:\n",
    "```\n",
    "pip install --upgrade keras tensorflow tensorflow-addons \n",
    "```\n",
    "You will read and run the code in the cells below."
   ]
  },
  {
   "cell_type": "markdown",
   "metadata": {},
   "source": [
    "All these APIs are built on numpy and we convert the dataset into numpy if you have not done it already"
   ]
  },
  {
   "cell_type": "code",
   "execution_count": 136,
   "metadata": {},
   "outputs": [],
   "source": [
    "X = np.array(X)\n",
    "X_norm = np.array(X_norm)\n",
    "y = np.array(y)"
   ]
  },
  {
   "cell_type": "markdown",
   "metadata": {},
   "source": [
    "They also handle the **intercept** so we do not need the first column of ones."
   ]
  },
  {
   "cell_type": "code",
   "execution_count": 137,
   "metadata": {},
   "outputs": [],
   "source": [
    "X = X[:, 1:]\n",
    "X_norm = X_norm[:, 1:]"
   ]
  },
  {
   "cell_type": "markdown",
   "metadata": {},
   "source": [
    "### sklearn\n",
    "Using the dataset of English and French datapoints, we apply **logistic regression with the sklearn API**. We need the `LogisticRegression` class, the `fit()` and `predict()` functions. The **weights** are in the `coef_` field."
   ]
  },
  {
   "cell_type": "code",
   "execution_count": 138,
   "metadata": {},
   "outputs": [
    {
     "data": {
      "text/plain": [
       "array([[-0.03319476,  0.50366331]])"
      ]
     },
     "execution_count": 138,
     "metadata": {},
     "output_type": "execute_result"
    }
   ],
   "source": [
    "from sklearn.linear_model import LogisticRegression\n",
    "model = LogisticRegression()\n",
    "model = model.fit(X, y)\n",
    "model.coef_"
   ]
  },
  {
   "cell_type": "markdown",
   "metadata": {},
   "source": [
    "We predict the classes of the $\\mathbf{X}$ with the `predict()` function"
   ]
  },
  {
   "cell_type": "code",
   "execution_count": 139,
   "metadata": {},
   "outputs": [
    {
     "data": {
      "text/plain": [
       "array([0., 0., 0., 0., 0., 0., 0., 0., 0., 0., 0., 0., 0., 0., 0., 1., 1.,\n",
       "       1., 1., 1., 1., 1., 1., 1., 1., 1., 1., 1., 1., 1.])"
      ]
     },
     "execution_count": 139,
     "metadata": {},
     "output_type": "execute_result"
    }
   ],
   "source": [
    "model.predict(X)"
   ]
  },
  {
   "cell_type": "markdown",
   "metadata": {},
   "source": [
    "We predict the **class probabilities** of the $\\mathbf{X}$ with the `predict_proba()` function"
   ]
  },
  {
   "cell_type": "code",
   "execution_count": 140,
   "metadata": {},
   "outputs": [
    {
     "data": {
      "text/plain": [
       "array([[1.00000000e+00, 3.74342280e-30],\n",
       "       [9.99999999e-01, 1.11132347e-09],\n",
       "       [9.90643749e-01, 9.35625091e-03],\n",
       "       [1.00000000e+00, 3.53486952e-12],\n",
       "       [1.00000000e+00, 2.21451661e-22],\n",
       "       [1.00000000e+00, 5.10324065e-11],\n",
       "       [1.00000000e+00, 3.67755819e-24],\n",
       "       [1.00000000e+00, 1.02028952e-16],\n",
       "       [1.00000000e+00, 4.08993804e-12],\n",
       "       [9.94443811e-01, 5.55618851e-03],\n",
       "       [9.89127346e-01, 1.08726538e-02],\n",
       "       [1.00000000e+00, 6.03322127e-11],\n",
       "       [1.00000000e+00, 5.16662097e-41],\n",
       "       [1.00000000e+00, 1.51674633e-21],\n",
       "       [1.00000000e+00, 6.79268599e-16],\n",
       "       [2.22044605e-15, 1.00000000e+00],\n",
       "       [0.00000000e+00, 1.00000000e+00],\n",
       "       [2.04608581e-02, 9.79539142e-01],\n",
       "       [0.00000000e+00, 1.00000000e+00],\n",
       "       [1.42263534e-09, 9.99999999e-01],\n",
       "       [0.00000000e+00, 1.00000000e+00],\n",
       "       [0.00000000e+00, 1.00000000e+00],\n",
       "       [0.00000000e+00, 1.00000000e+00],\n",
       "       [0.00000000e+00, 1.00000000e+00],\n",
       "       [0.00000000e+00, 1.00000000e+00],\n",
       "       [0.00000000e+00, 1.00000000e+00],\n",
       "       [0.00000000e+00, 1.00000000e+00],\n",
       "       [0.00000000e+00, 1.00000000e+00],\n",
       "       [0.00000000e+00, 1.00000000e+00],\n",
       "       [1.92187927e-02, 9.80781207e-01]])"
      ]
     },
     "execution_count": 140,
     "metadata": {},
     "output_type": "execute_result"
    }
   ],
   "source": [
    "model.predict_proba(X)"
   ]
  },
  {
   "cell_type": "markdown",
   "metadata": {},
   "source": [
    "### Keras\n",
    "Using the dataset of English and French datapoints, we apply logistic regression with Keras. We need the `Sequential` and `Dense` classes."
   ]
  },
  {
   "cell_type": "code",
   "execution_count": 141,
   "metadata": {},
   "outputs": [
    {
     "name": "stderr",
     "output_type": "stream",
     "text": [
      "C:\\Users\\hashu\\Anaconda3\\lib\\site-packages\\h5py\\__init__.py:36: FutureWarning: Conversion of the second argument of issubdtype from `float` to `np.floating` is deprecated. In future, it will be treated as `np.float64 == np.dtype(float).type`.\n",
      "  from ._conv import register_converters as _register_converters\n"
     ]
    }
   ],
   "source": [
    "from tensorflow.keras import Sequential \n",
    "from tensorflow.keras.layers import Dense"
   ]
  },
  {
   "cell_type": "code",
   "execution_count": 142,
   "metadata": {},
   "outputs": [
    {
     "name": "stdout",
     "output_type": "stream",
     "text": [
      "_________________________________________________________________\n",
      "Layer (type)                 Output Shape              Param #   \n",
      "=================================================================\n",
      "dense (Dense)                (None, 1)                 3         \n",
      "=================================================================\n",
      "Total params: 3\n",
      "Trainable params: 3\n",
      "Non-trainable params: 0\n",
      "_________________________________________________________________\n"
     ]
    }
   ],
   "source": [
    "# Write your code here\n",
    "model = Sequential()\n",
    "model.add(Dense(1, input_dim=2, activation='sigmoid'))\n",
    "model.compile(loss='binary_crossentropy',\n",
    "              optimizer='nadam',\n",
    "              metrics=['accuracy'])\n",
    "model.summary()"
   ]
  },
  {
   "cell_type": "markdown",
   "metadata": {},
   "source": [
    "#### We fit the model"
   ]
  },
  {
   "cell_type": "code",
   "execution_count": 151,
   "metadata": {},
   "outputs": [
    {
     "data": {
      "text/plain": [
       "<tensorflow.python.keras.callbacks.History at 0x2cf892acd68>"
      ]
     },
     "execution_count": 151,
     "metadata": {},
     "output_type": "execute_result"
    }
   ],
   "source": [
    "model.fit(X, y, epochs=4000, batch_size=4, verbose=0)"
   ]
  },
  {
   "cell_type": "code",
   "execution_count": 152,
   "metadata": {},
   "outputs": [
    {
     "data": {
      "text/plain": [
       "array([0., 0., 0., 0., 0., 0., 0., 0., 0., 0., 0., 0., 0., 0., 0., 1., 1.,\n",
       "       1., 1., 1., 1., 1., 1., 1., 1., 1., 1., 1., 1., 1.])"
      ]
     },
     "execution_count": 152,
     "metadata": {},
     "output_type": "execute_result"
    }
   ],
   "source": [
    "y"
   ]
  },
  {
   "cell_type": "code",
   "execution_count": 153,
   "metadata": {},
   "outputs": [
    {
     "data": {
      "text/plain": [
       "array([[0.],\n",
       "       [0.],\n",
       "       [0.],\n",
       "       [0.],\n",
       "       [0.],\n",
       "       [0.],\n",
       "       [0.],\n",
       "       [0.],\n",
       "       [0.],\n",
       "       [0.],\n",
       "       [0.],\n",
       "       [0.],\n",
       "       [0.],\n",
       "       [0.],\n",
       "       [0.],\n",
       "       [0.],\n",
       "       [0.],\n",
       "       [0.],\n",
       "       [0.],\n",
       "       [0.],\n",
       "       [0.],\n",
       "       [0.],\n",
       "       [0.],\n",
       "       [0.],\n",
       "       [0.],\n",
       "       [0.],\n",
       "       [0.],\n",
       "       [0.],\n",
       "       [0.],\n",
       "       [0.]], dtype=float32)"
      ]
     },
     "execution_count": 153,
     "metadata": {},
     "output_type": "execute_result"
    }
   ],
   "source": [
    "model.predict(X)"
   ]
  },
  {
   "cell_type": "code",
   "execution_count": 154,
   "metadata": {},
   "outputs": [
    {
     "data": {
      "text/plain": [
       "array([[0],\n",
       "       [0],\n",
       "       [0],\n",
       "       [0],\n",
       "       [0],\n",
       "       [0],\n",
       "       [0],\n",
       "       [0],\n",
       "       [0],\n",
       "       [0],\n",
       "       [0],\n",
       "       [0],\n",
       "       [0],\n",
       "       [0],\n",
       "       [0],\n",
       "       [0],\n",
       "       [0],\n",
       "       [0],\n",
       "       [0],\n",
       "       [0],\n",
       "       [0],\n",
       "       [0],\n",
       "       [0],\n",
       "       [0],\n",
       "       [0],\n",
       "       [0],\n",
       "       [0],\n",
       "       [0],\n",
       "       [0],\n",
       "       [0]])"
      ]
     },
     "execution_count": 154,
     "metadata": {},
     "output_type": "execute_result"
    }
   ],
   "source": [
    "model.predict_classes(X)"
   ]
  },
  {
   "cell_type": "markdown",
   "metadata": {},
   "source": [
    "If you do not obtain a correct classification, rerun the training with more epochs."
   ]
  },
  {
   "cell_type": "markdown",
   "metadata": {},
   "source": [
    "## Reading <a name=\"t5\"/>\n",
    "You will read the article *An overview of gradient descent optimization algorithms* by Ruder (2017) and you will outline the main characteristics of all the **optimization algorithms** the author describes. This part should be of about one to two pages. Link to the article: https://arxiv.org/abs/1609.04747\n",
    "\n",
    "If you understand French, or using Google translate, you may also want to read the original article on gradient descent by Cauchy here:  https://gallica.bnf.fr/ark:/12148/bpt6k2982c/f540.item.\n"
   ]
  },
  {
   "cell_type": "markdown",
   "metadata": {},
   "source": [
    "### Report\n",
    "\n",
    "The assignment must be documented in the report, which should contain the following:\n",
    "\n",
    "*   The name of the author, the title of the assignment, and any relevant information on the front page;\n",
    "*   A presentation of the assignment and the possible improvements you would have brought;\n",
    "*   A presentation of your implementation;\n",
    "*   A print-out of the example set(s) and the resulting weight vectors;\n",
    "*   Comments on the results you have obtained, including your cross validation;\n",
    "*   A short dissertation on the optimization algorithms from Ruder's paper.\n",
    "\n",
    "Please, typeset and format your report consistently. You must use Latex. Documents written using MS Word or any similar format will not be considered.\n",
    "\n",
    "You may have a look at the code in the textbook code repository (or any other implementations), but the code you hand in must be your work."
   ]
  },
  {
   "cell_type": "markdown",
   "metadata": {},
   "source": [
    "## Submission\n",
    "Submit the notebook and the report to Canvas (two files). Do not include the code printout in the report, but only comments on its interesting parts. You will submit the notebook as a separate file."
   ]
  },
  {
   "cell_type": "code",
   "execution_count": null,
   "metadata": {},
   "outputs": [],
   "source": []
  }
 ],
 "metadata": {
  "kernelspec": {
   "display_name": "Python 3",
   "language": "python",
   "name": "python3"
  },
  "language_info": {
   "codemirror_mode": {
    "name": "ipython",
    "version": 3
   },
   "file_extension": ".py",
   "mimetype": "text/x-python",
   "name": "python",
   "nbconvert_exporter": "python",
   "pygments_lexer": "ipython3",
   "version": "3.6.5"
  }
 },
 "nbformat": 4,
 "nbformat_minor": 5
}
